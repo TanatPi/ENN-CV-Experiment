{
 "cells": [
  {
   "cell_type": "markdown",
   "metadata": {},
   "source": [
    "Step 1: Import Necessary Libraries"
   ]
  },
  {
   "cell_type": "code",
   "execution_count": 19,
   "metadata": {},
   "outputs": [],
   "source": [
    "import os\n",
    "import json\n",
    "import pandas as pd\n",
    "import numpy as np\n",
    "from glob import glob\n",
    "import re"
   ]
  },
  {
   "cell_type": "markdown",
   "metadata": {},
   "source": [
    "Step 2: Define a Function to Extract Information from File Names"
   ]
  },
  {
   "cell_type": "code",
   "execution_count": 20,
   "metadata": {},
   "outputs": [],
   "source": [
    "def extract_info_from_filename(filename):\n",
    "    pattern = r'(?P<data>CIFAR10|CIFAR100|MNIST|Texture|Defect|Concrete)_(?P<model>ResNet18|ResNet50|VGG16)_(?P<type>MP|RBF|Sausage|ENN|ENN_no_initialization)_maxepochs.*\\.json'\n",
    "    match = re.match(pattern, filename)\n",
    "    if match:\n",
    "        return match.group('data'), match.group('model'), match.group('type')\n",
    "    else:\n",
    "        return None, None, None"
   ]
  },
  {
   "cell_type": "markdown",
   "metadata": {},
   "source": [
    "Step 3: Read JSON Files and Extract Data"
   ]
  },
  {
   "cell_type": "code",
   "execution_count": 21,
   "metadata": {},
   "outputs": [],
   "source": [
    "def read_json_files(file_path_pattern, key = 'test_accuracy'):\n",
    "    files = glob(file_path_pattern)\n",
    "    data_list = []\n",
    "\n",
    "    for file in files:\n",
    "        with open(file, 'r') as f:\n",
    "            content = json.load(f)\n",
    "            data, model, type_ = extract_info_from_filename(os.path.basename(file))\n",
    "            if data and model and type_:\n",
    "                newlist = [x*100 for x in content[key] if x != np.nan] # clean list from NaN\n",
    "                data_list.append({\n",
    "                    'data': data,\n",
    "                    'model': model,\n",
    "                    'type': type_,\n",
    "                    'values': newlist  # Assuming 'values' is a key in your JSON\n",
    "                })\n",
    "\n",
    "    return data_list"
   ]
  },
  {
   "cell_type": "markdown",
   "metadata": {},
   "source": [
    "Step 4: Compute Average and Standard Error"
   ]
  },
  {
   "cell_type": "code",
   "execution_count": 22,
   "metadata": {},
   "outputs": [],
   "source": [
    "def compute_statistics(data_list):\n",
    "    df = pd.DataFrame(data_list)\n",
    "    df['mean'] = df['values'].apply(np.mean)\n",
    "    df['stderr'] = df['values'].apply(lambda x: np.std(x, ddof=1) / np.sqrt(len(x)))\n",
    "    df.drop(columns = 'values', inplace = True)\n",
    "    return df"
   ]
  },
  {
   "cell_type": "markdown",
   "metadata": {},
   "source": [
    "Step 5: Organize Data into a Pandas DataFrame"
   ]
  },
  {
   "cell_type": "code",
   "execution_count": 23,
   "metadata": {},
   "outputs": [],
   "source": [
    "def format_values(df):\n",
    "    # create mean +- stderr format column\n",
    "    df['formatted'] = df.apply(lambda row: f\"{row['mean']:.5f} ± {row['stderr']:.8f}\", axis=1)\n",
    "    df.drop(columns = ['mean', 'stderr'], inplace = True)\n",
    "    return df\n",
    "\n",
    "def create_final_dataframe(df):\n",
    "    formatted_df = format_values(df)\n",
    "    formatted_df.set_index(['type','model', 'data'], inplace=True)\n",
    "    return formatted_df.unstack(-1)"
   ]
  },
  {
   "cell_type": "markdown",
   "metadata": {},
   "source": [
    "Putting It All Together, first for 20 epochs results"
   ]
  },
  {
   "cell_type": "code",
   "execution_count": 24,
   "metadata": {},
   "outputs": [],
   "source": [
    "# Define the pattern for your JSON files\n",
    "file_path_pattern = 'W:/DS/Project/CNN Experiment/20_epochs_results/*.json'\n",
    "\n",
    "# Create the DataFrame\n",
    "data_list = read_json_files(file_path_pattern)\n",
    "df = compute_statistics(data_list)\n",
    "final_df = create_final_dataframe(df)"
   ]
  },
  {
   "cell_type": "code",
   "execution_count": 25,
   "metadata": {},
   "outputs": [
    {
     "name": "stdout",
     "output_type": "stream",
     "text": [
      "type                   model   \n",
      "ENN                    ResNet18    87.60595 ± 0.05141063\n",
      "                       ResNet50    89.96682 ± 0.03159691\n",
      "                       VGG16       86.34596 ± 0.07773647\n",
      "ENN_no_initialization  ResNet18    86.40197 ± 0.03966666\n",
      "                       ResNet50    89.30687 ± 0.05529375\n",
      "                       VGG16       85.78410 ± 0.06811712\n",
      "MP                     ResNet18    88.00942 ± 0.04789291\n",
      "                       ResNet50    90.91574 ± 0.03215573\n",
      "                       VGG16       87.09511 ± 0.08323884\n",
      "RBF                    ResNet18    83.60659 ± 0.04229395\n",
      "                       ResNet50    85.46304 ± 0.13302931\n",
      "                       VGG16       51.97988 ± 2.76441997\n",
      "Sausage                ResNet18    87.28061 ± 0.15049557\n",
      "Name: Concrete, dtype: object\n"
     ]
    }
   ],
   "source": [
    "# Display the final DataFrame\n",
    "print(final_df['formatted']['Concrete'])"
   ]
  },
  {
   "cell_type": "markdown",
   "metadata": {},
   "source": [
    "Then, for 200 epochs results"
   ]
  },
  {
   "cell_type": "code",
   "execution_count": 28,
   "metadata": {},
   "outputs": [],
   "source": [
    "# Define the pattern for your JSON files\n",
    "file_path_pattern = 'W:/DS/Project/CNN Experiment/200_epochs_results/CIFAR100/*.json'\n",
    "\n",
    "# Create the DataFrame\n",
    "data_list = read_json_files(file_path_pattern,key = '')\n",
    "df_200 = compute_statistics(data_list)\n",
    "final_df_200 = create_final_dataframe(df_200)"
   ]
  },
  {
   "cell_type": "code",
   "execution_count": 29,
   "metadata": {},
   "outputs": [
    {
     "name": "stdout",
     "output_type": "stream",
     "text": [
      "                                            formatted\n",
      "data                                         CIFAR100\n",
      "type                  model                          \n",
      "ENN                   ResNet18  66.36618 ± 0.07328341\n",
      "ENN_no_initialization ResNet18  65.91547 ± 0.09277658\n",
      "MP                    ResNet18  68.43867 ± 0.06562700\n",
      "RBF                   ResNet18  57.90431 ± 0.16477138\n",
      "Sausage               ResNet18  60.96755 ± 0.20065431\n"
     ]
    }
   ],
   "source": [
    "# Display the final DataFrame\n",
    "print(final_df_200)"
   ]
  }
 ],
 "metadata": {
  "kernelspec": {
   "display_name": "base",
   "language": "python",
   "name": "python3"
  },
  "language_info": {
   "codemirror_mode": {
    "name": "ipython",
    "version": 3
   },
   "file_extension": ".py",
   "mimetype": "text/x-python",
   "name": "python",
   "nbconvert_exporter": "python",
   "pygments_lexer": "ipython3",
   "version": "3.11.7"
  }
 },
 "nbformat": 4,
 "nbformat_minor": 2
}
