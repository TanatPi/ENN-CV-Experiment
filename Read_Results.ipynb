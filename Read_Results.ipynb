{
 "cells": [
  {
   "cell_type": "markdown",
   "metadata": {},
   "source": [
    "Step 1: Import Necessary Libraries"
   ]
  },
  {
   "cell_type": "code",
   "execution_count": 13,
   "metadata": {},
   "outputs": [],
   "source": [
    "import os\n",
    "import json\n",
    "import pandas as pd\n",
    "import numpy as np\n",
    "from glob import glob\n",
    "import re"
   ]
  },
  {
   "cell_type": "markdown",
   "metadata": {},
   "source": [
    "Step 2: Define a Function to Extract Information from File Names"
   ]
  },
  {
   "cell_type": "code",
   "execution_count": 14,
   "metadata": {},
   "outputs": [],
   "source": [
    "def extract_info_from_filename(filename):\n",
    "    pattern = r'(?P<data>CIFAR10|CIFAR100|MNIST|Texture|Defect|Concrete)_(?P<model>ResNet18|ResNet50|VGG16)_(?P<type>MP|RBF|Sausage|ENN|ENN_no_initialization)_maxepochs.*\\.json'\n",
    "    match = re.match(pattern, filename)\n",
    "    if match:\n",
    "        return match.group('data'), match.group('model'), match.group('type')\n",
    "    else:\n",
    "        return None, None, None"
   ]
  },
  {
   "cell_type": "markdown",
   "metadata": {},
   "source": [
    "Step 3: Read JSON Files and Extract Data"
   ]
  },
  {
   "cell_type": "code",
   "execution_count": 15,
   "metadata": {},
   "outputs": [],
   "source": [
    "def read_json_files(file_path_pattern, key = 'test_accuracy'):\n",
    "    files = glob(file_path_pattern)\n",
    "    data_list = []\n",
    "\n",
    "    for file in files:\n",
    "        with open(file, 'r') as f:\n",
    "            content = json.load(f)\n",
    "            data, model, type_ = extract_info_from_filename(os.path.basename(file))\n",
    "            if data and model and type_:\n",
    "                newlist = [x*100 for x in content[key] if x != np.nan] # clean list from NaN\n",
    "                data_list.append({\n",
    "                    'data': data,\n",
    "                    'model': model,\n",
    "                    'type': type_,\n",
    "                    'values': newlist  # Assuming 'values' is a key in your JSON\n",
    "                })\n",
    "\n",
    "    return data_list"
   ]
  },
  {
   "cell_type": "markdown",
   "metadata": {},
   "source": [
    "Step 4: Compute Average and Standard Error"
   ]
  },
  {
   "cell_type": "code",
   "execution_count": 16,
   "metadata": {},
   "outputs": [],
   "source": [
    "def compute_statistics(data_list):\n",
    "    df = pd.DataFrame(data_list)\n",
    "    df['mean'] = df['values'].apply(np.mean)\n",
    "    df['stderr'] = df['values'].apply(lambda x: np.std(x, ddof=1) / np.sqrt(len(x)))\n",
    "    df.drop(columns = 'values', inplace = True)\n",
    "    return df"
   ]
  },
  {
   "cell_type": "markdown",
   "metadata": {},
   "source": [
    "Step 5: Organize Data into a Pandas DataFrame"
   ]
  },
  {
   "cell_type": "code",
   "execution_count": 17,
   "metadata": {},
   "outputs": [],
   "source": [
    "def format_values(df):\n",
    "    # create mean +- stderr format column\n",
    "    df['formatted'] = df.apply(lambda row: f\"{row['mean']:.5f} ± {row['stderr']:.8f}\", axis=1)\n",
    "    df.drop(columns = ['mean', 'stderr'], inplace = True)\n",
    "    return df\n",
    "\n",
    "def create_final_dataframe(df):\n",
    "    formatted_df = format_values(df)\n",
    "    formatted_df.set_index(['type','model', 'data'], inplace=True)\n",
    "    return formatted_df"
   ]
  },
  {
   "cell_type": "markdown",
   "metadata": {},
   "source": [
    "Putting It All Together, first for 20 epochs results"
   ]
  },
  {
   "cell_type": "code",
   "execution_count": 18,
   "metadata": {},
   "outputs": [],
   "source": [
    "# Define the pattern for your JSON files\n",
    "file_path_pattern = 'E:/Work/DS/Project/CNN Experiment/20_epochs_results/*.json'\n",
    "\n",
    "# Create the DataFrame\n",
    "data_list = read_json_files(file_path_pattern)\n",
    "df = compute_statistics(data_list)\n",
    "final_df = create_final_dataframe(df)"
   ]
  },
  {
   "cell_type": "code",
   "execution_count": 26,
   "metadata": {},
   "outputs": [
    {
     "name": "stdout",
     "output_type": "stream",
     "text": [
      "                                                    formatted\n",
      "type                  model    data                          \n",
      "ENN                   ResNet18 Texture  90.47408 ± 0.12478700\n",
      "ENN_no_initialization ResNet18 Texture  86.75426 ± 0.09660118\n",
      "MP                    ResNet18 Texture  96.64062 ± 0.07184673\n",
      "RBF                   ResNet18 Texture  34.21165 ± 1.08173665\n",
      "                               Texture  46.87500 ± 0.38582471\n",
      "ENN                   ResNet50 Texture  95.51373 ± 0.10600686\n",
      "ENN_no_initialization ResNet50 Texture  94.68513 ± 0.08080532\n",
      "MP                    ResNet50 Texture  98.74527 ± 0.04365319\n",
      "RBF                   ResNet50 Texture  18.46591 ± 0.56670020\n",
      "ENN                   VGG16    Texture  96.11150 ± 0.12086039\n",
      "ENN_no_initialization VGG16    Texture  92.77936 ± 0.09290469\n",
      "MP                    VGG16    Texture  98.59138 ± 0.12891063\n",
      "RBF                   VGG16    Texture   5.98958 ± 0.16673124\n"
     ]
    }
   ],
   "source": [
    "# Display the final DataFrame\n",
    "print(final_df.iloc[65:])"
   ]
  },
  {
   "cell_type": "markdown",
   "metadata": {},
   "source": [
    "Then, for 200 epochs results"
   ]
  },
  {
   "cell_type": "code",
   "execution_count": 20,
   "metadata": {},
   "outputs": [],
   "source": [
    "# Define the pattern for your JSON files\n",
    "file_path_pattern = 'E:/Work/DS/Project/CNN Experiment/200_epochs_results/*.json'\n",
    "\n",
    "# Create the DataFrame\n",
    "data_list = read_json_files(file_path_pattern)\n",
    "df_200 = compute_statistics(data_list)\n",
    "final_df_200 = create_final_dataframe(df_200)"
   ]
  },
  {
   "cell_type": "code",
   "execution_count": 21,
   "metadata": {},
   "outputs": [
    {
     "name": "stdout",
     "output_type": "stream",
     "text": [
      "                                                    formatted\n",
      "type                  model    data                          \n",
      "ENN                   ResNet18 CIFAR10  87.90899 ± 0.06570042\n",
      "ENN_no_initialization ResNet18 CIFAR10  87.81801 ± 0.04315299\n",
      "MP                    ResNet18 CIFAR10  88.58173 ± 0.09962500\n",
      "RBF                   ResNet18 CIFAR10  88.01082 ± 0.03711763\n",
      "Sausage               ResNet18 CIFAR10  87.51002 ± 0.03517446\n"
     ]
    }
   ],
   "source": [
    "# Display the final DataFrame\n",
    "print(final_df_200)"
   ]
  }
 ],
 "metadata": {
  "kernelspec": {
   "display_name": "base",
   "language": "python",
   "name": "python3"
  },
  "language_info": {
   "codemirror_mode": {
    "name": "ipython",
    "version": 3
   },
   "file_extension": ".py",
   "mimetype": "text/x-python",
   "name": "python",
   "nbconvert_exporter": "python",
   "pygments_lexer": "ipython3",
   "version": "3.11.7"
  }
 },
 "nbformat": 4,
 "nbformat_minor": 2
}
