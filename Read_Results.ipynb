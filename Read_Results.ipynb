{
 "cells": [
  {
   "cell_type": "markdown",
   "metadata": {},
   "source": [
    "Step 1: Import Necessary Libraries"
   ]
  },
  {
   "cell_type": "code",
   "execution_count": 88,
   "metadata": {},
   "outputs": [],
   "source": [
    "import os\n",
    "import json\n",
    "import pandas as pd\n",
    "import numpy as np\n",
    "from glob import glob\n",
    "import re"
   ]
  },
  {
   "cell_type": "markdown",
   "metadata": {},
   "source": [
    "Step 2: Define a Function to Extract Information from File Names"
   ]
  },
  {
   "cell_type": "code",
   "execution_count": 89,
   "metadata": {},
   "outputs": [],
   "source": [
    "def extract_info_from_filename(filename):\n",
    "    pattern = r'(?P<data>CIFAR10|CIFAR100|MNIST|Texture|Defect|Concrete)_(?P<model>ResNet18|ResNet50|VGG16)_(?P<type>MP|RBF|Sausage|ENN|ENN_no_initialization)_maxepochs.*\\.json'\n",
    "    match = re.match(pattern, filename)\n",
    "    if match:\n",
    "        return match.group('data'), match.group('model'), match.group('type')\n",
    "    else:\n",
    "        return None, None, None"
   ]
  },
  {
   "cell_type": "markdown",
   "metadata": {},
   "source": [
    "Step 3: Read JSON Files and Extract Data"
   ]
  },
  {
   "cell_type": "code",
   "execution_count": 90,
   "metadata": {},
   "outputs": [],
   "source": [
    "def read_json_files(file_path_pattern, key = 'test_accuracy'):\n",
    "    files = glob(file_path_pattern)\n",
    "    data_list = []\n",
    "\n",
    "    for file in files:\n",
    "        with open(file, 'r') as f:\n",
    "            content = json.load(f)\n",
    "            data, model, type_ = extract_info_from_filename(os.path.basename(file))\n",
    "            if data and model and type_:\n",
    "                newlist = [x for x in content[key] if x != np.nan] # clean list from NaN\n",
    "                data_list.append({\n",
    "                    'data': data,\n",
    "                    'model': model,\n",
    "                    'type': type_,\n",
    "                    'values': newlist  # Assuming 'values' is a key in your JSON\n",
    "                })\n",
    "\n",
    "    return data_list"
   ]
  },
  {
   "cell_type": "markdown",
   "metadata": {},
   "source": [
    "Step 4: Compute Average and Standard Error"
   ]
  },
  {
   "cell_type": "code",
   "execution_count": 91,
   "metadata": {},
   "outputs": [],
   "source": [
    "def compute_statistics(data_list):\n",
    "    df = pd.DataFrame(data_list)\n",
    "    df['mean'] = df['values'].apply(np.mean)\n",
    "    df['stderr'] = df['values'].apply(lambda x: np.std(x, ddof=1) / np.sqrt(len(x)))\n",
    "    df.drop(columns = 'values', inplace = True)\n",
    "    return df"
   ]
  },
  {
   "cell_type": "markdown",
   "metadata": {},
   "source": [
    "Step 5: Organize Data into a Pandas DataFrame"
   ]
  },
  {
   "cell_type": "code",
   "execution_count": 92,
   "metadata": {},
   "outputs": [],
   "source": [
    "def format_values(df):\n",
    "    # create mean +- stderr format column\n",
    "    df['formatted'] = df.apply(lambda row: f\"{row['mean']:.5f} ± {row['stderr']:.8f}\", axis=1)\n",
    "    df.drop(columns = ['mean', 'stderr'], inplace = True)\n",
    "    return df\n",
    "\n",
    "def create_final_dataframe(df):\n",
    "    formatted_df = format_values(df)\n",
    "    formatted_df.set_index(['type','model', 'data'], inplace=True)\n",
    "    return formatted_df"
   ]
  },
  {
   "cell_type": "markdown",
   "metadata": {},
   "source": [
    "Putting It All Together, first for 20 epochs results"
   ]
  },
  {
   "cell_type": "code",
   "execution_count": 93,
   "metadata": {},
   "outputs": [],
   "source": [
    "# Define the pattern for your JSON files\n",
    "file_path_pattern = 'E:/Work/DS/Project/CNN Experiment/20_epochs_results/*.json'\n",
    "\n",
    "# Create the DataFrame\n",
    "data_list = read_json_files(file_path_pattern)\n",
    "df = compute_statistics(data_list)\n",
    "final_df = create_final_dataframe(df)"
   ]
  },
  {
   "cell_type": "code",
   "execution_count": 94,
   "metadata": {},
   "outputs": [
    {
     "name": "stdout",
     "output_type": "stream",
     "text": [
      "                                                    formatted\n",
      "type                  model    data                          \n",
      "ENN                   ResNet18 CIFAR100  0.64179 ± 0.00097624\n",
      "ENN_no_initialization ResNet18 CIFAR100  0.61671 ± 0.00047845\n",
      "MP                    ResNet18 CIFAR100  0.68459 ± 0.00040243\n",
      "RBF                   ResNet18 CIFAR100  0.25989 ± 0.00238836\n",
      "Sausage               ResNet18 CIFAR100  0.44679 ± 0.00526269\n",
      "...                                                       ...\n",
      "RBF                   ResNet50 Texture   0.18466 ± 0.00566700\n",
      "ENN                   VGG16    Texture   0.96112 ± 0.00120860\n",
      "ENN_no_initialization VGG16    Texture   0.92779 ± 0.00092905\n",
      "MP                    VGG16    Texture   0.98591 ± 0.00128911\n",
      "RBF                   VGG16    Texture   0.05990 ± 0.00166731\n",
      "\n",
      "[78 rows x 1 columns]\n"
     ]
    }
   ],
   "source": [
    "# Display the final DataFrame\n",
    "print(final_df)"
   ]
  },
  {
   "cell_type": "markdown",
   "metadata": {},
   "source": [
    "Then, for 200 epochs results"
   ]
  },
  {
   "cell_type": "code",
   "execution_count": 95,
   "metadata": {},
   "outputs": [],
   "source": [
    "# Define the pattern for your JSON files\n",
    "file_path_pattern = 'E:/Work/DS/Project/CNN Experiment/200_epochs_results/*.json'\n",
    "\n",
    "# Create the DataFrame\n",
    "data_list = read_json_files(file_path_pattern)\n",
    "df_200 = compute_statistics(data_list)\n",
    "final_df_200 = create_final_dataframe(df_200)"
   ]
  },
  {
   "cell_type": "code",
   "execution_count": 96,
   "metadata": {},
   "outputs": [
    {
     "name": "stdout",
     "output_type": "stream",
     "text": [
      "                                                   formatted\n",
      "type                  model    data                         \n",
      "ENN                   ResNet18 CIFAR10  0.87909 ± 0.00065700\n",
      "ENN_no_initialization ResNet18 CIFAR10  0.87818 ± 0.00043153\n",
      "MP                    ResNet18 CIFAR10  0.88582 ± 0.00099625\n",
      "RBF                   ResNet18 CIFAR10  0.88011 ± 0.00037118\n",
      "Sausage               ResNet18 CIFAR10  0.87510 ± 0.00035174\n"
     ]
    }
   ],
   "source": [
    "# Display the final DataFrame\n",
    "print(final_df_200)"
   ]
  }
 ],
 "metadata": {
  "kernelspec": {
   "display_name": "base",
   "language": "python",
   "name": "python3"
  },
  "language_info": {
   "codemirror_mode": {
    "name": "ipython",
    "version": 3
   },
   "file_extension": ".py",
   "mimetype": "text/x-python",
   "name": "python",
   "nbconvert_exporter": "python",
   "pygments_lexer": "ipython3",
   "version": "3.11.7"
  }
 },
 "nbformat": 4,
 "nbformat_minor": 2
}
