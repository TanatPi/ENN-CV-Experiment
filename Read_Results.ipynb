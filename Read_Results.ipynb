{
 "cells": [
  {
   "cell_type": "markdown",
   "metadata": {},
   "source": [
    "Step 1: Import Necessary Libraries"
   ]
  },
  {
   "cell_type": "code",
   "execution_count": 60,
   "metadata": {},
   "outputs": [],
   "source": [
    "import os\n",
    "import json\n",
    "import pandas as pd\n",
    "import numpy as np\n",
    "from glob import glob\n",
    "import re"
   ]
  },
  {
   "cell_type": "markdown",
   "metadata": {},
   "source": [
    "Step 2: Define a Function to Extract Information from File Names"
   ]
  },
  {
   "cell_type": "code",
   "execution_count": 61,
   "metadata": {},
   "outputs": [],
   "source": [
    "def extract_info_from_filename(filename):\n",
    "    pattern = r'(?P<data>CIFAR10|CIFAR100|MNIST|Texture|Defect|Concrete)_(?P<model>ResNet18|ResNet50|VGG16)_(?P<type>MP|RBF|Sausage|ENN|ENN_no_initialization)_maxepochs.*\\.json'\n",
    "    match = re.match(pattern, filename)\n",
    "    if match:\n",
    "        return match.group('data'), match.group('model'), match.group('type')\n",
    "    else:\n",
    "        return None, None, None"
   ]
  },
  {
   "cell_type": "markdown",
   "metadata": {},
   "source": [
    "Step 3: Read JSON Files and Extract Data"
   ]
  },
  {
   "cell_type": "code",
   "execution_count": 62,
   "metadata": {},
   "outputs": [],
   "source": [
    "def read_json_files(file_path_pattern, key = 'test_accuracy'):\n",
    "    files = glob(file_path_pattern)\n",
    "    data_list = []\n",
    "\n",
    "    for file in files:\n",
    "        with open(file, 'r') as f:\n",
    "            content = json.load(f)\n",
    "            data, model, type_ = extract_info_from_filename(os.path.basename(file))\n",
    "            if data and model and type_:\n",
    "                newlist = [x*100 for x in content[key] if x != np.nan] # clean list from NaN\n",
    "                data_list.append({\n",
    "                    'data': data,\n",
    "                    'model': model,\n",
    "                    'type': type_,\n",
    "                    'values': newlist  # Assuming 'values' is a key in your JSON\n",
    "                })\n",
    "\n",
    "    return data_list"
   ]
  },
  {
   "cell_type": "markdown",
   "metadata": {},
   "source": [
    "Step 4: Compute Average and Standard Error"
   ]
  },
  {
   "cell_type": "code",
   "execution_count": 63,
   "metadata": {},
   "outputs": [],
   "source": [
    "def compute_statistics(data_list):\n",
    "    df = pd.DataFrame(data_list)\n",
    "    df['mean'] = df['values'].apply(np.mean)\n",
    "    df['stderr'] = df['values'].apply(lambda x: np.std(x, ddof=1) / np.sqrt(len(x)))\n",
    "    df.drop(columns = 'values', inplace = True)\n",
    "    return df"
   ]
  },
  {
   "cell_type": "markdown",
   "metadata": {},
   "source": [
    "Step 5: Organize Data into a Pandas DataFrame"
   ]
  },
  {
   "cell_type": "code",
   "execution_count": 64,
   "metadata": {},
   "outputs": [],
   "source": [
    "def format_values(df):\n",
    "    # create mean +- stderr format column\n",
    "    df['formatted'] = df.apply(lambda row: f\"{row['mean']:.5f} ± {row['stderr']:.8f}\", axis=1)\n",
    "    df.drop(columns = ['mean', 'stderr'], inplace = True)\n",
    "    return df\n",
    "\n",
    "def create_final_dataframe(df):\n",
    "    formatted_df = format_values(df)\n",
    "    formatted_df.set_index(['type','model', 'data'], inplace=True)\n",
    "    return formatted_df.unstack(-1)"
   ]
  },
  {
   "cell_type": "markdown",
   "metadata": {},
   "source": [
    "Putting It All Together, first for 20 epochs results"
   ]
  },
  {
   "cell_type": "code",
   "execution_count": 65,
   "metadata": {},
   "outputs": [],
   "source": [
    "# Define the pattern for your JSON files\n",
    "file_path_pattern = 'W:/DS/Project/CNN Experiment/20_epochs_results/*.json'\n",
    "\n",
    "# Create the DataFrame\n",
    "data_list = read_json_files(file_path_pattern)\n",
    "df = compute_statistics(data_list)\n",
    "final_df = create_final_dataframe(df)"
   ]
  },
  {
   "cell_type": "code",
   "execution_count": 74,
   "metadata": {},
   "outputs": [
    {
     "name": "stdout",
     "output_type": "stream",
     "text": [
      "type                   model   \n",
      "ENN                    ResNet18    64.17935 ± 0.09762427\n",
      "                       ResNet50    70.87440 ± 0.03210827\n",
      "                       VGG16       56.35350 ± 0.17966931\n",
      "ENN_no_initialization  ResNet18    61.67067 ± 0.04784468\n",
      "                       ResNet50    69.91520 ± 0.09706327\n",
      "                       VGG16       57.66059 ± 0.13288822\n",
      "MP                     ResNet18    68.45853 ± 0.04024297\n",
      "                       ResNet50    74.92822 ± 0.04736327\n",
      "                       VGG16       62.65525 ± 0.08521473\n",
      "RBF                    ResNet18    25.98858 ± 0.23883575\n",
      "                       ResNet50    25.75287 ± 0.34619737\n",
      "                       VGG16        1.00160 ± 0.00000000\n",
      "Sausage                ResNet18    44.67899 ± 0.52626853\n",
      "Name: CIFAR100, dtype: object\n"
     ]
    }
   ],
   "source": [
    "# Display the final DataFrame\n",
    "print(final_df['formatted']['CIFAR100'])"
   ]
  },
  {
   "cell_type": "markdown",
   "metadata": {},
   "source": [
    "Then, for 200 epochs results"
   ]
  },
  {
   "cell_type": "code",
   "execution_count": 67,
   "metadata": {},
   "outputs": [],
   "source": [
    "# Define the pattern for your JSON files\n",
    "file_path_pattern = 'W:/DS/Project/CNN Experiment/200_epochs_results/*.json'\n",
    "\n",
    "# Create the DataFrame\n",
    "data_list = read_json_files(file_path_pattern)\n",
    "df_200 = compute_statistics(data_list)\n",
    "final_df_200 = create_final_dataframe(df_200)"
   ]
  },
  {
   "cell_type": "code",
   "execution_count": 68,
   "metadata": {},
   "outputs": [
    {
     "name": "stdout",
     "output_type": "stream",
     "text": [
      "                                            formatted\n",
      "data                                          CIFAR10\n",
      "type                  model                          \n",
      "ENN                   ResNet18  87.90899 ± 0.06570042\n",
      "ENN_no_initialization ResNet18  87.81801 ± 0.04315299\n",
      "MP                    ResNet18  88.58173 ± 0.09962500\n",
      "RBF                   ResNet18  88.01082 ± 0.03711763\n",
      "Sausage               ResNet18  87.51002 ± 0.03517446\n"
     ]
    }
   ],
   "source": [
    "# Display the final DataFrame\n",
    "print(final_df_200)"
   ]
  }
 ],
 "metadata": {
  "kernelspec": {
   "display_name": "base",
   "language": "python",
   "name": "python3"
  },
  "language_info": {
   "codemirror_mode": {
    "name": "ipython",
    "version": 3
   },
   "file_extension": ".py",
   "mimetype": "text/x-python",
   "name": "python",
   "nbconvert_exporter": "python",
   "pygments_lexer": "ipython3",
   "version": "3.11.7"
  }
 },
 "nbformat": 4,
 "nbformat_minor": 2
}
